{
 "cells": [
  {
   "cell_type": "code",
   "execution_count": 1,
   "id": "b4bde0d7",
   "metadata": {},
   "outputs": [],
   "source": [
    "import numpy as np\n",
    "import math"
   ]
  },
  {
   "cell_type": "code",
   "execution_count": 2,
   "id": "6ae10dfb",
   "metadata": {},
   "outputs": [
    {
     "name": "stdout",
     "output_type": "stream",
     "text": [
      "The coefficient of Correlation is  -0.1658\n"
     ]
    }
   ],
   "source": [
    "P=[[0,0.01,0.03,0.05,0.07,0.09],\n",
    "   [0.01,0.02,0.04,0.05,0.06,0.08],\n",
    "   [0.01,0.03,0.05,0.05,0.05,0.06],\n",
    "   [0.01,0.02,0.04,0.06,0.06,0.05]]\n",
    "Px=np.sum(P,axis=0)\n",
    "Py=np.sum(P,axis=1)\n",
    "x=[0,1,2,3,4,5]\n",
    "Ex=np.inner(x,Px)\n",
    "y=[0,1,2,3]\n",
    "Ey=np.inner(y,Py)\n",
    "Ex2=np.inner(np.square(x),Px)\n",
    "Ey2=np.inner(np.square(y),Py)\n",
    "VX=Ex2-Ex**2\n",
    "VY=Ey2-Ey**2\n",
    "SX=math.sqrt(VX)\n",
    "SY=math.sqrt(VY)\n",
    "EXY=0\n",
    "for i in range(4):\n",
    "    for j in range(6):\n",
    "        EXY=EXY+x[j]*y[i]*P[i][j]\n",
    "COV=EXY-Ex*Ey\n",
    "r=COV/(SX*SY)\n",
    "print(\"The coefficient of Correlation is  %0.4f\"%r)"
   ]
  },
  {
   "cell_type": "code",
   "execution_count": null,
   "id": "09b3bb66",
   "metadata": {},
   "outputs": [],
   "source": []
  }
 ],
 "metadata": {
  "kernelspec": {
   "display_name": "Python 3 (ipykernel)",
   "language": "python",
   "name": "python3"
  },
  "language_info": {
   "codemirror_mode": {
    "name": "ipython",
    "version": 3
   },
   "file_extension": ".py",
   "mimetype": "text/x-python",
   "name": "python",
   "nbconvert_exporter": "python",
   "pygments_lexer": "ipython3",
   "version": "3.9.7"
  }
 },
 "nbformat": 4,
 "nbformat_minor": 5
}
